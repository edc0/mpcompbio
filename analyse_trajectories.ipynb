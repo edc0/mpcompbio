{
 "cells": [
  {
   "cell_type": "code",
   "execution_count": 2,
   "metadata": {},
   "outputs": [],
   "source": [
    "import pandas as pd\n",
    "%matplotlib inline\n",
    "import numpy as np\n",
    "import matplotlib.pyplot as plt\n",
    "import os\n",
    "import seaborn as sns"
   ]
  },
  {
   "cell_type": "code",
   "execution_count": 3,
   "metadata": {},
   "outputs": [],
   "source": [
    "def parse_line(r):\n",
    "    \n",
    "    r[0] = r[0].split('/')[-1].split('.')[0]\n",
    "    res = dict(zip(['fasta','rsmd', 'fa1','fa2','seconds'],r))\n",
    "    res['rsmd'] = float(res['rsmd'])\n",
    "    res['fa1'] = float(res['fa1'])\n",
    "    res['fa2'] = float(res['fa2'])\n",
    "    return res\n",
    "\n",
    "def read_file(result_dir, filename):\n",
    "    with open(os.path.join(result_dir ,filename),'r') as f:\n",
    "            f.readline()\n",
    "            f.readline()\n",
    "            r = f.readline()\n",
    "            r = r.split(',')\n",
    "    res = parse_line(r)\n",
    "    \n",
    "    try:\n",
    "        res['seconds'] = float(res['seconds'])\n",
    "    except:\n",
    "        pass\n",
    "\n",
    "    return res"
   ]
  },
  {
   "cell_type": "code",
   "execution_count": 18,
   "metadata": {},
   "outputs": [],
   "source": [
    "# perfect alphas\n",
    "di = 'out_trajectories_perf'\n",
    "directory = os.fsencode(di)\n",
    "results = []\n",
    "\n",
    "for file in os.listdir(directory):\n",
    "    filename = os.fsdecode(file)\n",
    "    res_type = ''\n",
    "    if '.args' in filename:\n",
    "        if 'original' in filename:\n",
    "            # unchanged distogram\n",
    "            res_type = 'original'\n",
    "        elif 'False' in filename:\n",
    "            # merged distogram \n",
    "            res_type = 'merged'\n",
    "        elif 'True' in filename:\n",
    "            # filtered distogram\n",
    "            res_type = 'merged_filtered'\n",
    "        else:\n",
    "            continue\n",
    "        res = read_file(di, filename)\n",
    "        res['experiment'] = res_type\n",
    "        results.append(res)\n"
   ]
  },
  {
   "cell_type": "code",
   "execution_count": 19,
   "metadata": {},
   "outputs": [],
   "source": [
    "df = pd.DataFrame(results)\n",
    "g = df.groupby(['experiment','fasta']).mean()"
   ]
  },
  {
   "cell_type": "code",
   "execution_count": 20,
   "metadata": {},
   "outputs": [
    {
     "data": {
      "image/png": "[encoded data removed]",
      "text/plain": [
       "<Figure size 432x288 with 1 Axes>"
      ]
     },
     "metadata": {
      "needs_background": "light"
     },
     "output_type": "display_data"
    }
   ],
   "source": [
    "#sns.set(rc={'figure.figsize':(7,5)})\n",
    "from cycler import cycler\n",
    "import matplotlib as mpl\n",
    "mpl.rcParams['axes.prop_cycle'] = cycler(color=['c', 'b', 'y', 'k'])\n",
    "by_school = sns.barplot(x='fasta',y='rsmd',hue='experiment',data=g.reset_index())\n",
    "for item in by_school.get_xticklabels():\n",
    "    item.set_rotation(90)\n",
    "by_school.set_xlabel('Protein')\n",
    "by_school.set_ylabel('RMSD')\n",
    "by_school.get_legend().remove()"
   ]
  },
  {
   "cell_type": "code",
   "execution_count": 21,
   "metadata": {},
   "outputs": [
    {
     "data": {
      "image/png": "[encoded data removed]",
      "text/plain": [
       "<Figure size 432x288 with 1 Axes>"
      ]
     },
     "metadata": {
      "needs_background": "light"
     },
     "output_type": "display_data"
    }
   ],
   "source": [
    "by_school = sns.barplot(x='fasta',y='seconds',hue='experiment',data=g.reset_index())\n",
    "for item in by_school.get_xticklabels():\n",
    "    item.set_rotation(90)\n",
    "by_school.set_xlabel('Protein')\n",
    "by_school.set_ylabel('Runtime [seconds]')\n",
    "by_school.get_legend().remove()"
   ]
  },
  {
   "cell_type": "code",
   "execution_count": 22,
   "metadata": {},
   "outputs": [],
   "source": [
    "### weighted computation failed so...[True, False, Original]\n",
    "# we did not log the runtime LOL"
   ]
  },
  {
   "cell_type": "code",
   "execution_count": 23,
   "metadata": {},
   "outputs": [],
   "source": [
    "res1 = \"\"\"fasta/3frkA02.fasta 3.742220640182495 131637.86024983853 926.3798775202994\n",
    "fasta/3frkA02.fasta 10.868977546691895 135636.48479933507 1890.997837856624\n",
    "fasta/3frkA02.fasta 4.537967681884766 129030.5401579888 831.513114787295\n",
    "fasta/1h7zA00.fasta 15.734100341796875 340474.20983812015 1429.4570824436241\n",
    "fasta/1h7zA00.fasta 19.46101188659668 335670.30377334735 1902.2657025157368\n",
    "fasta/1h7zA00.fasta 20.379453659057617 332613.34523876343 1434.0656059727478\n",
    "fasta/4fqdA01.fasta 13.950435638427734 452856.3291421045 2225.5587977850396\n",
    "fasta/4fqdA01.fasta 16.50111198425293 434794.58854236925 5211.787868186297\n",
    "fasta/4fqdA01.fasta 7.934987545013428 424062.43330326816 1212.2449359097507\n",
    "fasta/1i1nA00.fasta 0 0 0\n",
    "fasta/1i1nA00.fasta 117.76280975341797 -2604776.613388028 2199.1726851832123\n",
    "fasta/1i1nA00.fasta 116.25699615478516 -2528017.041839213 2132.009319746823\n",
    "fasta/4ebjA02.fasta 49.790225982666016 39665.1066651604 1103.0219067294436\n",
    "fasta/4ebjA02.fasta 49.17005920410156 39124.610919193874 881.7411570413676\n",
    "fasta/4ebjA02.fasta 48.35287857055664 45724.45087581791 912.9040183197253\n",
    "fasta/2xp1A02.fasta 8.44289493560791 56141.95401817276 847.0626139817555\n",
    "fasta/2xp1A02.fasta 10.978850364685059 54999.181534626136 619.1687144897021\n",
    "fasta/2xp1A02.fasta 5.992055892944336 54318.33961575223 439.77889615471406\n",
    "fasta/3esiA00.fasta 12.28038501739502 126039.81630585295 1467.5798098335638\n",
    "fasta/3esiA00.fasta 4.622862339019775 126172.4215412994 1322.5165256273858\n",
    "fasta/3esiA00.fasta 4.3644609451293945 123839.00136858107 767.2049022928422\n",
    "fasta/4k30A00.fasta 25.044355392456055 91308.24174259497 1714.9259464871602\n",
    "fasta/4k30A00.fasta 26.859922409057617 93370.03644705686 1787.5909196303917\n",
    "fasta/4k30A00.fasta 24.224838256835938 99362.47298683067 1567.0832966897126\n",
    "fasta/1e2uA04.fasta 3.928757905960083 241102.63385276435 1244.887922540413\n",
    "fasta/1e2uA04.fasta 3.8359034061431885 241847.2357824917 1507.7686445912036\n",
    "fasta/1e2uA04.fasta 14.374977111816406 247067.76906162457 1134.4871273527974\n",
    "fasta/1knwA02.fasta 16.658042907714844 503442.27247086674 3162.5332673698913\n",
    "fasta/1knwA02.fasta 16.606765747070312 506000.8429904046 3226.2087309620756\n",
    "fasta/1knwA02.fasta 4.271584510803223 497752.61072637746 1739.3570137442948\n",
    "fasta/4ic1A00.fasta 14.979669570922852 367166.00845418195 2284.309448116851\n",
    "fasta/4ic1A00.fasta 17.93543243408203 369364.50360587 3284.373766600034\n",
    "fasta/4ic1A00.fasta 14.704240798950195 367706.19543472363 1789.7954800898342\n",
    "fasta/3t30C00.fasta 4.67526388168335 101751.64135128378 1149.5094497254388\"\"\""
   ]
  },
  {
   "cell_type": "code",
   "execution_count": 24,
   "metadata": {},
   "outputs": [],
   "source": [
    "results = []\n",
    "tp = ['merged_filtered','merged','original']\n",
    "for i, l in enumerate(res1.split('\\n')):\n",
    "    rr = parse_line(l.split(' '))\n",
    "    rr['experiment'] = tp[i%3]\n",
    "    results.append(rr)"
   ]
  },
  {
   "cell_type": "code",
   "execution_count": 25,
   "metadata": {},
   "outputs": [],
   "source": [
    "df = pd.DataFrame(results)\n",
    "g = df.groupby(['experiment','fasta']).mean()"
   ]
  },
  {
   "cell_type": "code",
   "execution_count": 26,
   "metadata": {},
   "outputs": [
    {
     "data": {
      "text/plain": [
       "Text(0, 0.5, 'RMSD')"
      ]
     },
     "execution_count": 26,
     "metadata": {},
     "output_type": "execute_result"
    },
    {
     "data": {
      "image/png": "[encoded data removed]",
      "text/plain": [
       "<Figure size 432x288 with 1 Axes>"
      ]
     },
     "metadata": {
      "needs_background": "light"
     },
     "output_type": "display_data"
    }
   ],
   "source": [
    "by_school = sns.barplot(x='fasta',y='rsmd',hue='experiment',data=g.reset_index())\n",
    "for item in by_school.get_xticklabels():\n",
    "    item.set_rotation(90)\n",
    "by_school.set_xlabel('Protein')\n",
    "by_school.set_ylabel('RMSD')"
   ]
  },
  {
   "cell_type": "code",
   "execution_count": null,
   "metadata": {},
   "outputs": [],
   "source": []
  }
 ],
 "metadata": {
  "kernelspec": {
   "display_name": "Python 3",
   "language": "python",
   "name": "python3"
  },
  "language_info": {
   "codemirror_mode": {
    "name": "ipython",
    "version": 3
   },
   "file_extension": ".py",
   "mimetype": "text/x-python",
   "name": "python",
   "nbconvert_exporter": "python",
   "pygments_lexer": "ipython3",
   "version": "3.7.3"
  }
 },
 "nbformat": 4,
 "nbformat_minor": 2
}
